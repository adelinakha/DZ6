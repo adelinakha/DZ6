{
 "cells": [
  {
   "cell_type": "code",
   "execution_count": 1,
   "id": "d81da5f7",
   "metadata": {},
   "outputs": [],
   "source": [
    "# Импортирование необходимых библиотек\n",
    "import pandas as pd\n",
    "import numpy as np\n",
    "import matplotlib.pyplot as plt"
   ]
  },
  {
   "cell_type": "markdown",
   "id": "baf0e664",
   "metadata": {},
   "source": [
    "### Пример 1: Создание датафрейма в Pandas\n",
    "\n",
    "В этом примере мы создали два датафрейма:\n",
    "\n",
    "1. Пустой датафрейм `df_empty` без каких-либо данных.\n",
    "2. Датафрейм `df` с некоторыми тестовыми данными, включающими имена, возраст и профессию четырех людей.\n",
    "\n",
    "```python\n",
    "# Создание пустого датафрейма\n",
    "df_empty = pd.DataFrame()\n",
    "\n",
    "# Создание датафрейма с данными\n",
    "data = {\n",
    "    'Name': ['Alice', 'Bob', 'Charlie', 'David'],\n",
    "    'Age': [25, 30, 35, 40],\n",
    "    'Occupation': ['Engineer', 'Doctor', 'Teacher', 'Artist']\n",
    "}\n",
    "df = pd.DataFrame(data)\n",
    "```\n",
    "\n",
    "#### Теперь ваша очередь:\n",
    "\n",
    "1. Создайте свой датафрейм с колонками \"City\", \"Population\", и \"Area\".\n",
    "2. Выведите ваш датафрейм на экран."
   ]
  },
  {
   "cell_type": "code",
   "execution_count": null,
   "id": "99b17f55",
   "metadata": {},
   "outputs": [],
   "source": [
    "import pandas as pd\n",
    "\n",
    "# Создание датафрейма с данными о городах\n",
    "city_data = {\n",
    "    'City': ['New York', 'Los Angeles', 'Chicago', 'Houston', 'Phoenix'],\n",
    "    'Population': [8537673, 3979576, 2693976, 2320268, 1680992],\n",
    "    'Area': [468.9, 1213.9, 606.1, 669.2, 1340.6]\n",
    "}\n",
    "df_cities = pd.DataFrame(city_data)\n",
    "\n",
    "# Вывод датафрейма на экран\n",
    "print(df_cities)\n"
   ]
  },
  {
   "cell_type": "markdown",
   "id": "744b357b",
   "metadata": {},
   "source": [
    "### Пример 2: Выбор и удаление колонок\n",
    "\n",
    "Часто вам нужно будет работать только с определенными колонками датафрейма. В этом примере мы рассмотрим, как выбрать и удалить колонки.\n",
    "\n",
    "```python\n",
    "#Выбор одной колонки\n",
    "age_column = df['Age']\n",
    "\n",
    "#Выбор нескольких колонок\n",
    "selected_columns = df[['Name', 'Occupation']]\n",
    "\n",
    "#Удаление колонки\n",
    "df_dropped = df.drop('Age', axis=1)\n",
    "```\n",
    "\n",
    "#### Теперь ваша очередь:\n",
    "\n",
    "1. Выберите колонку \"Occupation\" и сохраните ее в переменную.\n",
    "2. Удалите колонку \"Name\" из датафрейма и выведите результат на экран."
   ]
  },
  {
   "cell_type": "code",
   "execution_count": null,
   "id": "80f2b291",
   "metadata": {},
   "outputs": [],
   "source": [
    "# Выбор колонки \"Occupation\" и сохранение ее в переменную\n",
    "occupation_column = df['Occupation']\n",
    "\n",
    "# Удаление колонки \"Name\" из датафрейма\n",
    "df_dropped_name = df.drop('Name', axis=1)\n",
    "\n",
    "# Вывод результата на экран\n",
    "print(df_dropped_name)\n"
   ]
  },
  {
   "cell_type": "markdown",
   "id": "0ee3ee19",
   "metadata": {},
   "source": [
    "### Пример 3: Выбор и удаление строк\n",
    "\n",
    "Кроме работы с колонками, вы также будете выбирать и удалять строки. В этом примере мы рассмотрим, как это делается.\n",
    "\n",
    "```python\n",
    "#Выбор строки по индексу\n",
    "row_1 = df.loc[0]\n",
    "\n",
    "#Выбор нескольких строк по индексу\n",
    "selected_rows = df.loc[1:3]\n",
    "\n",
    "#Удаление строки по индексу\n",
    "df_dropped = df.drop(0)\n",
    "```\n",
    "\n",
    "#### Теперь ваша очередь:\n",
    "\n",
    "1. Выберите строки с индексами от 1 до 2 и сохраните их в переменную.\n",
    "2. Удалите строку с индексом 3 из датафрейма и выведите результат на экран."
   ]
  },
  {
   "cell_type": "code",
   "execution_count": null,
   "id": "329abfcc",
   "metadata": {},
   "outputs": [],
   "source": []
  },
  {
   "cell_type": "markdown",
   "id": "3ee4a64c",
   "metadata": {},
   "source": [
    "### Пример 4: Работа с пропущенными данными\n",
    "\n",
    "Пропущенные данные — распространенная проблема в реальных наборах данных. В этом примере мы рассмотрим, как обрабатывать пропущенные значения.\n",
    "\n",
    "```python\n",
    "#Создание датафрейма с пропущенными значениями\n",
    "df_with_nan = pd.DataFrame({\n",
    "    'Name': ['Alice', None, 'Charlie', 'David'],\n",
    "    'Age': [25, 30, None, 40]\n",
    "})\n",
    "\n",
    "#Заполнение пропущенных значений\n",
    "df_filled = df_with_nan.fillna('Unknown')\n",
    "\n",
    "#Удаление строк с пропущенными значениями\n",
    "df_dropped = df_with_nan.dropna()\n",
    "```\n",
    "\n",
    "#### Теперь ваша очередь:\n",
    "\n",
    "1. Создайте датафрейм с пропущенными значениями в колонке \"Occupation\".\n",
    "2. Заполните пропущенные значения этой колонки словом \"Unknown\" и выведите результат на экран."
   ]
  },
  {
   "cell_type": "code",
   "execution_count": null,
   "id": "3a488d27",
   "metadata": {},
   "outputs": [],
   "source": [
    "import pandas as pd\n",
    "\n",
    "# Создание датафрейма с пропущенными значениями в колонке \"Occupation\"\n",
    "df_with_nan_occupation = pd.DataFrame({\n",
    "    'Name': ['Alice', 'Bob', 'Charlie', 'David'],\n",
    "    'Age': [25, 30, 35, 40],\n",
    "    'Occupation': ['Engineer', None, None, 'Artist']\n",
    "})\n",
    "\n",
    "# Заполнение пропущенных значений в колонке \"Occupation\" словом \"Unknown\"\n",
    "df_filled_occupation = df_with_nan_occupation.fillna({'Occupation': 'Unknown'})\n",
    "\n",
    "# Вывод результата на экран\n",
    "print(df_filled_occupation)\n"
   ]
  },
  {
   "cell_type": "markdown",
   "id": "526d030b",
   "metadata": {},
   "source": [
    "### Пример 5: Фильтрация данных\n",
    "\n",
    "Фильтрация данных — одна из самых частых операций при анализе данных. В этом примере мы рассмотрим, как фильтровать строки в датафрейме.\n",
    "\n",
    "```python\n",
    "# Фильтрация по условию (возраст больше 30)\n",
    "filtered_df = df[df['Age'] > 30]\n",
    "\n",
    "# Фильтрация по нескольким условиям\n",
    "filtered_df_multiple = df[(df['Age'] > 30) & (df['Occupation'] == 'Teacher')]\n",
    "```\n",
    "\n",
    "#### Теперь ваша очередь:\n",
    "\n",
    "1. Фильтруйте датафрейм так, чтобы остались только строки с профессией \"Engineer\".\n",
    "2. Фильтруйте датафрейм так, чтобы остались только строки с возрастом меньше 35 и профессией \"Doctor\"."
   ]
  },
  {
   "cell_type": "code",
   "execution_count": null,
   "id": "f0676367",
   "metadata": {},
   "outputs": [],
   "source": [
    "# Фильтрация для оставления только строк с профессией \"Engineer\"\n",
    "engineer_df = df[df['Occupation'] == 'Engineer']\n",
    "\n",
    "# Вывод результата на экран\n",
    "print(engineer_df)\n",
    "\n",
    "# Фильтрация для оставления только строк с возрастом меньше 35 и профессией \"Doctor\"\n",
    "doctor_under_35_df = df[(df['Age'] < 35) & (df['Occupation'] == 'Doctor')]\n",
    "\n",
    "# Вывод результата на экран\n",
    "print(doctor_under_35_df)\n"
   ]
  },
  {
   "cell_type": "markdown",
   "id": "525c859d",
   "metadata": {},
   "source": [
    "### Пример 6: Сортировка данных\n",
    "\n",
    "Сортировка данных часто необходима для лучшего понимания распределения значений или для подготовки данных к анализу.\n",
    "\n",
    "```python\n",
    "# Сортировка по возрасту (по возрастанию)\n",
    "sorted_df = df.sort_values('Age')\n",
    "\n",
    "# Сортировка по возрасту и профессии (по убыванию)\n",
    "sorted_df_multiple = df.sort_values(['Age', 'Occupation'], ascending=[False, True])\n",
    "```\n",
    "\n",
    "#### Теперь ваша очередь:\n",
    "\n",
    "1. Отсортируйте датафрейм по колонке \"Name\" в алфавитном порядке.\n",
    "2. Отсортируйте датафрейм по возрасту в порядке убывания и выведите результат на экран."
   ]
  },
  {
   "cell_type": "code",
   "execution_count": null,
   "id": "93b180b8",
   "metadata": {},
   "outputs": [],
   "source": [
    "# Сортировка по колонке \"Name\" в алфавитном порядке\n",
    "sorted_by_name_df = df.sort_values('Name')\n",
    "\n",
    "# Вывод результата на экран\n",
    "print(sorted_by_name_df)\n",
    "\n",
    "# Сортировка по возрасту в порядке убывания\n",
    "sorted_by_age_descending_df = df.sort_values('Age', ascending=False)\n",
    "\n",
    "# Вывод результата на экран\n",
    "print(sorted_by_age_descending_df)\n"
   ]
  },
  {
   "cell_type": "markdown",
   "id": "615c7ae3",
   "metadata": {},
   "source": [
    "### Пример 7: Агрегация данных\n",
    "\n",
    "Агрегация данных включает в себя операции, которые преобразуют набор данных в одно число — например, среднее значение, максимум или минимум.\n",
    "\n",
    "```python\n",
    "# Вычисление среднего возраста\n",
    "average_age = df['Age'].mean()\n",
    "\n",
    "# Вычисление максимального и минимального возраста\n",
    "max_age = df['Age'].max()\n",
    "min_age = df['Age'].min()\n",
    "```\n",
    "\n",
    "#### Теперь ваша очередь:\n",
    "\n",
    "1. Найдите средний возраст в вашем датафрейме и сохраните его в переменную.\n",
    "2. Найдите профессию самого молодого человека в датафрейме и выведите её на экран."
   ]
  },
  {
   "cell_type": "code",
   "execution_count": null,
   "id": "e60a09d3",
   "metadata": {},
   "outputs": [],
   "source": [
    "# Нахождение среднего возраста и сохранение его в переменную\n",
    "average_age = df['Age'].mean()\n",
    "\n",
    "# Вывод среднего возраста на экран\n",
    "print(\"Средний возраст:\", average_age)\n",
    "\n",
    "# Нахождение профессии самого молодого человека\n",
    "youngest_person = df[df['Age'] == df['Age'].min()]\n",
    "youngest_person_occupation = youngest_person['Occupation'].iloc[0]\n",
    "\n",
    "# Вывод профессии самого молодого человека на экран\n",
    "print(\"Профессия самого молодого человека:\", youngest_person_occupation)\n"
   ]
  },
  {
   "cell_type": "markdown",
   "id": "4af6656b",
   "metadata": {},
   "source": [
    "### Пример 8: Применение функций к данным\n",
    "\n",
    "Вы можете применять различные функции к данным для их преобразования или анализа.\n",
    "\n",
    "```python\n",
    "#Применение функции к одной колонке (преобразование возраста в категории)\n",
    "\n",
    "df['Age_Category'] = df['Age'].apply(lambda x: 'Young' if x < 30 else 'Old')\n",
    "\n",
    "# Применение функции ко всему датафрейму (перевод всех строк в верхний регистр)\n",
    "df_upper = df.applymap(str.upper)\n",
    "```\n",
    "\n",
    "#### Теперь ваша очередь:\n",
    "\n",
    "1. Создайте новую колонку \"Name_Length\", в которой будет храниться длина каждого имени.\n",
    "2. Преобразуйте все строки в колонке \"Occupation\" в нижний регистр и выведите результат на экран."
   ]
  },
  {
   "cell_type": "code",
   "execution_count": null,
   "id": "e86237c2",
   "metadata": {},
   "outputs": [],
   "source": [
    "# Создание новой колонки \"Name_Length\" с длиной каждого имени\n",
    "df['Name_Length'] = df['Name'].apply(len)\n",
    "\n",
    "# Вывод датафрейма с новой колонкой на экран\n",
    "print(df)\n",
    "\n",
    "# Преобразование всех строк в колонке \"Occupation\" в нижний регистр\n",
    "df['Occupation'] = df['Occupation'].str.lower()\n",
    "\n",
    "# Вывод результата на экран\n",
    "print(df)\n"
   ]
  },
  {
   "cell_type": "markdown",
   "id": "c7de54ef",
   "metadata": {},
   "source": [
    "### Пример 9: Чтение и запись данных в CSV-файлы\n",
    "\n",
    "Чтение и запись данных в файлы — базовые операции, которые вам нужно уметь выполнять.\n",
    "\n",
    "```python\n",
    "# Чтение данных из CSV-файла\n",
    "df_from_csv = pd.read_csv('your_file.csv')\n",
    "\n",
    "# Запись данных в CSV-файл\n",
    "df.to_csv('new_file.csv', index=False)\n",
    "```\n",
    "\n",
    "#### Теперь ваша очередь:\n",
    "\n",
    "1. Считайте данные из CSV-файла (который я прикреплю позже) и сохраните их в новый датафрейм.\n",
    "2. Запишите только колонки \"Name\" и \"Age\" из текущего датафрейма в новый CSV-файл."
   ]
  },
  {
   "cell_type": "markdown",
   "id": "40983c24",
   "metadata": {},
   "source": []
  },
  {
   "cell_type": "code",
   "execution_count": null,
   "id": "5fa1a292",
   "metadata": {},
   "outputs": [],
   "source": [
    "import pandas as pd\n",
    "\n",
    "# Чтение данных из CSV-файла\n",
    "df_from_csv = pd.read_csv('example_data.csv')\n",
    "\n",
    "# Запись только колонок \"Name\" и \"Age\" в новый CSV-файл\n",
    "df_from_csv[['Name', 'Age']].to_csv('new_file.csv', index=False)\n"
   ]
  },
  {
   "cell_type": "markdown",
   "id": "5585615d",
   "metadata": {},
   "source": [
    "### Пример 10: Слияние и соединение датафреймов\n",
    "\n",
    "Слияние и соединение датафреймов часто необходимы при работе с большими наборами данных.\n",
    "\n",
    "```python\n",
    "# Создание второго датафрейма\n",
    "df2 = pd.DataFrame({\n",
    "    'Name': ['Eve', 'Frank'],\n",
    "    'Age': [45, 50],\n",
    "    'Occupation': ['Manager', 'CEO']\n",
    "})\n",
    "\n",
    "# Слияние двух датафреймов\n",
    "merged_df = pd.concat([df, df2])\n",
    "\n",
    "# Соединение двух датафреймов по колонке 'Name'\n",
    "joined_df = pd.merge(df, df2, on='Name', how='outer')\n",
    "```\n",
    "\n",
    "#### Теперь ваша очередь:\n",
    "\n",
    "1. Создайте второй датафрейм с колонками \"Name\", \"Salary\" и двумя или тремя строками.\n",
    "2. Соедините ваш новый датафрейм с исходным по колонке \"Name\" и выведите результат на экран."
   ]
  },
  {
   "cell_type": "code",
   "execution_count": null,
   "id": "56c50a6c",
   "metadata": {},
   "outputs": [],
   "source": [
    "import pandas as pd\n",
    "\n",
    "# Создание второго датафрейма\n",
    "df2 = pd.DataFrame({\n",
    "    'Name': ['Eve', 'Frank'],\n",
    "    'Salary': [60000, 75000],\n",
    "})\n",
    "\n",
    "# Соединение двух датафреймов по колонке 'Name'\n",
    "joined_df = pd.merge(df, df2, on='Name', how='outer')\n",
    "\n",
    "# Вывод результата на экран\n",
    "print(joined_df)\n"
   ]
  },
  {
   "cell_type": "markdown",
   "id": "800035c4",
   "metadata": {},
   "source": [
    "### Пример 11: Чтение данных из CSV-файла\n",
    "\n",
    "Считывание данных из CSV-файла является одной из наиболее распространенных задач. В этом примере мы считаем CSV-файл и выводим первые 5 строк.\n",
    "\n",
    "```python\n",
    "# Чтение данных из CSV-файла\n",
    "csv_file_path = '/path/to/your/csv/file.csv'\n",
    "df_from_csv = pd.read_csv(csv_file_path)\n",
    "\n",
    "# Вывод первых 5 строк\n",
    "df_from_csv.head()\n",
    "```\n",
    "\n",
    "#### Теперь ваша очередь:\n",
    "\n",
    "1. Считайте данные из прикрепленного CSV-файла и сохраните их в новую переменную.\n",
    "2. Выведите на экран первые 10 строк вашего датафрейма."
   ]
  },
  {
   "cell_type": "code",
   "execution_count": null,
   "id": "875f760b",
   "metadata": {},
   "outputs": [],
   "source": [
    "import pandas as pd\n",
    "\n",
    "# Считывание данных из прикрепленного CSV-файла\n",
    "csv_file_path = 'example_data.csv'\n",
    "df_from_csv = pd.read_csv(csv_file_path)\n",
    "\n",
    "# Вывод первых 10 строк датафрейма\n",
    "print(df_from_csv.head(10))\n"
   ]
  },
  {
   "cell_type": "markdown",
   "id": "6a7abb3b",
   "metadata": {},
   "source": [
    "### Пример 12: Основная информация о датасете\n",
    "\n",
    "После того как данные считаны, полезно получить общую информацию о датасете: типы данных, количество пропущенных значений и так далее.\n",
    "\n",
    "```python\n",
    "# Получение информации о датасете\n",
    "df_from_csv.info()\n",
    "\n",
    "# Основные статистические показатели\n",
    "df_from_csv.describe()\n",
    "```\n",
    "\n",
    "#### Теперь ваша очередь:\n",
    "\n",
    "1. Получите информацию о вашем датафрейме с помощью метода `info()`.\n",
    "2. Выведите основные статистические показатели для числовых колонок с помощью метода `describe()`."
   ]
  },
  {
   "cell_type": "code",
   "execution_count": null,
   "id": "c8a9569a",
   "metadata": {},
   "outputs": [],
   "source": [
    "# Получение информации о датафрейме\n",
    "print(df_from_csv.info())\n",
    "\n",
    "# Вывод основных статистических показателей для числовых колонок\n",
    "print(df_from_csv.describe())\n"
   ]
  },
  {
   "cell_type": "markdown",
   "id": "f48d49a1",
   "metadata": {},
   "source": [
    "### Пример 13: Выбор и фильтрация данных\n",
    "\n",
    "В реальных данных часто нужно выбирать определенные строки или колонки. В этом примере мы рассмотрим, как это сделать на примере считанного CSV-файла.\n",
    "\n",
    "```python\n",
    "# Выбор определенных колонок\n",
    "selected_columns = df_from_csv[['Title', 'Genre', 'IMDB Score']]\n",
    "\n",
    "# Фильтрация данных по условию (IMDB Score > 8)\n",
    "high_score_movies = df_from_csv[df_from_csv['IMDB Score'] > 8]\n",
    "```\n",
    "\n",
    "#### Теперь ваша очередь:\n",
    "\n",
    "1. Выберите колонки 'Title', 'Year' и 'IMDB Score' и сохраните их в новую переменную.\n",
    "2. Фильтруйте датафрейм так, чтобы остались только фильмы с рейтингом IMDB выше 9."
   ]
  },
  {
   "cell_type": "code",
   "execution_count": null,
   "id": "c58d38d9",
   "metadata": {},
   "outputs": [],
   "source": [
    "# Выбор определенных колонок 'Title', 'Year' и 'IMDB Score' и сохранение их в новую переменную\n",
    "selected_columns = df_from_csv[['Title', 'Year', 'IMDB Score']]\n",
    "\n",
    "# Вывод первых нескольких строк нового датафрейма\n",
    "print(selected_columns.head())\n",
    "\n",
    "# Фильтрация данных по условию (IMDB Score > 9)\n",
    "high_score_movies = df_from_csv[df_from_csv['IMDB Score'] > 9]\n",
    "\n",
    "# Вывод первых нескольких строк отфильтрованного датафрейма\n",
    "print(high_score_movies.head())\n"
   ]
  },
  {
   "cell_type": "markdown",
   "id": "ae22dc31",
   "metadata": {},
   "source": [
    "### Пример 14: Обработка пропущенных данных\n",
    "\n",
    "Пропущенные данные — частая проблема. В этом примере мы рассмотрим, как находить и обрабатывать пропущенные значения в датафрейме.\n",
    "\n",
    "```python\n",
    "# Поиск колонок с пропущенными значениями\n",
    "missing_data_columns = df_from_csv.columns[df_from_csv.isnull().any()]\n",
    "\n",
    "# Заполнение пропущенных значений в колонке 'IMDB Score'\n",
    "df_filled = df_from_csv['IMDB Score'].fillna(df_from_csv['IMDB Score'].mean())\n",
    "```\n",
    "\n",
    "#### Теперь ваша очередь:\n",
    "\n",
    "1. Найдите все колонки в вашем датафрейме, которые имеют пропущенные значения.\n",
    "2. Заполните пропущенные значения в колонке 'IMDB Score' медианным значением этой колонки."
   ]
  },
  {
   "cell_type": "code",
   "execution_count": null,
   "id": "cd3f7a91",
   "metadata": {},
   "outputs": [],
   "source": [
    "# Нахождение колонок с пропущенными значениями\n",
    "missing_data_columns = df_from_csv.columns[df_from_csv.isnull().any()]\n",
    "print(\"Колонки с пропущенными значениями:\", missing_data_columns)\n",
    "\n",
    "# Заполнение пропущенных значений в колонке 'IMDB Score' медианным значением этой колонки\n",
    "median_imdb_score = df_from_csv['IMDB Score'].median()\n",
    "df_from_csv['IMDB Score'].fillna(median_imdb_score, inplace=True)\n",
    "\n",
    "# Проверка, что пропущенные значения были заполнены\n",
    "print(\"Пропущенные значения в колонке 'IMDB Score' были заполнены медианным значением:\", df_from_csv['IMDB Score'].isnull().any())\n"
   ]
  },
  {
   "cell_type": "markdown",
   "id": "cb0c0169",
   "metadata": {},
   "source": [
    "### Пример 15: Преобразование данных\n",
    "\n",
    "Преобразование данных необходимо для подготовки их к анализу или визуализации. В этом примере мы создадим новую колонку на основе существующих данных.\n",
    "\n",
    "```python\n",
    "# Создание новой колонки на основе существующих\n",
    "df_from_csv['IMDB Score Category'] = df_from_csv['IMDB Score'].apply(lambda x: 'High' if x > 8 else 'Low')\n",
    "```\n",
    "\n",
    "#### Теперь ваша очередь:\n",
    "\n",
    "1. Создайте новую колонку 'Decade', в которой будет указано десятилетие выхода фильма на основе колонки 'Year'.\n",
    "2. Выведите на экран первые 5 строк датафрейма с новой колонкой."
   ]
  },
  {
   "cell_type": "code",
   "execution_count": null,
   "id": "e4443d44",
   "metadata": {},
   "outputs": [],
   "source": [
    "# Создание новой колонки 'Decade' на основе колонки 'Year'\n",
    "df_from_csv['Decade'] = (df_from_csv['Year'] // 10) * 10\n",
    "\n",
    "# Вывод первых 5 строк датафрейма с новой колонкой\n",
    "print(df_from_csv.head())"
   ]
  },
  {
   "cell_type": "markdown",
   "id": "8d09578a",
   "metadata": {},
   "source": [
    "### Пример 16: Агрегация и группировка данных\n",
    "\n",
    "Агрегация и группировка данных полезны для суммирования и анализа. В этом примере мы рассмотрим, как получить средний рейтинг IMDB для каждого жанра.\n",
    "\n",
    "```python\n",
    "# Группировка данных по жанру и вычисление среднего рейтинга IMDB\n",
    "average_scores_by_genre = df_from_csv.groupby('Genre')['IMDB Score'].mean()\n",
    "```\n",
    "\n",
    "#### Теперь ваша очередь:\n",
    "\n",
    "1. Группируйте данные по десятилетиям (колонка 'Decade') и вычислите средний рейтинг IMDB для каждого десятилетия.\n",
    "2. Выведите на экран полученные результаты."
   ]
  },
  {
   "cell_type": "code",
   "execution_count": null,
   "id": "5fef930b",
   "metadata": {},
   "outputs": [],
   "source": [
    "# Группировка данных по десятилетиям и вычисление среднего рейтинга IMDB\n",
    "average_scores_by_decade = df_from_csv.groupby('Decade')['IMDB Score'].mean()\n",
    "\n",
    "# Вывод результатов\n",
    "print(average_scores_by_decade)\n"
   ]
  },
  {
   "cell_type": "markdown",
   "id": "d8764377",
   "metadata": {},
   "source": [
    "### Пример 17: Сортировка и ранжирование данных\n",
    "\n",
    "Сортировка и ранжирование данных полезны для лучшего понимания и анализа. В этом примере мы отсортируем фильмы по рейтингу IMDB.\n",
    "\n",
    "```python\n",
    "# Сортировка фильмов по рейтингу IMDB\n",
    "sorted_by_score = df_from_csv.sort_values('IMDB Score', ascending=False)\n",
    "```\n",
    "\n",
    "#### Теперь ваша очередь:\n",
    "\n",
    "1. Отсортируйте фильмы по году выпуска, начиная с самых новых.\n",
    "2. Выведите на экран первые 5 строк отсортированного датафрейма."
   ]
  },
  {
   "cell_type": "code",
   "execution_count": null,
   "id": "051f9664",
   "metadata": {},
   "outputs": [],
   "source": [
    "# Сортировка фильмов по году выпуска, начиная с самых новых\n",
    "sorted_by_year = df_from_csv.sort_values('Year', ascending=False)\n",
    "\n",
    "# Вывод первых 5 строк отсортированного датафрейма\n",
    "print(sorted_by_year.head())\n"
   ]
  },
  {
   "cell_type": "markdown",
   "id": "94270e20",
   "metadata": {},
   "source": [
    "### Пример 18: Визуализация данных\n",
    "\n",
    "Визуализация данных помогает лучше их понять и проанализировать. В этом примере мы создадим простую гистограмму рейтингов IMDB.\n",
    "\n",
    "```python\n",
    "import matplotlib.pyplot as plt\n",
    "\n",
    "#  Гистограмма рейтингов IMDB\n",
    "plt.hist(df_from_csv['IMDB Score'], bins=20)\n",
    "plt.xlabel('IMDB Score')\n",
    "plt.ylabel('Frequency')\n",
    "plt.title('Histogram of IMDB Scores')\n",
    "plt.show()\n",
    "```\n",
    "\n",
    "#### Теперь ваша очередь:\n",
    "\n",
    "1. Создайте гистограмму для колонки 'Year', чтобы увидеть распределение фильмов по годам.\n",
    "2. Добавьте подписи к осям и заголовок к графику."
   ]
  },
  {
   "cell_type": "code",
   "execution_count": null,
   "id": "2b475ed7",
   "metadata": {},
   "outputs": [],
   "source": [
    "import matplotlib.pyplot as plt\n",
    "\n",
    "# Гистограмма распределения фильмов по годам\n",
    "plt.hist(df_from_csv['Year'], bins=30, color='skyblue', edgecolor='black')\n",
    "plt.xlabel('Year')\n",
    "plt.ylabel('Frequency')\n",
    "plt.title('Distribution of Movies by Year')\n",
    "plt.grid(True)\n",
    "plt.show()\n"
   ]
  },
  {
   "cell_type": "markdown",
   "id": "e997204f",
   "metadata": {},
   "source": [
    "### Пример 19: Сохранение обработанных данных\n",
    "\n",
    "После всех преобразований и анализа, важно сохранить обработанные данные. В этом примере мы сохраним датафрейм в новый CSV-файл.\n",
    "\n",
    "```python\n",
    "# Сохранение датафрейма в новый CSV-файл\n",
    "df_from_csv.to_csv('processed_data.csv', index=False)\n",
    "```\n",
    "\n",
    "#### Теперь ваша очередь:\n",
    "\n",
    "1. Сохраните датафрейм, отфильтрованный по рейтингу IMDB (выше 9), в новый CSV-файл.\n",
    "2. Проверьте, что файл успешно сохранен, считав его обратно в новый датафрейм и выведя первые строки."
   ]
  },
  {
   "cell_type": "code",
   "execution_count": null,
   "id": "d57ef2eb",
   "metadata": {},
   "outputs": [],
   "source": [
    "# Отфильтрованный датафрейм по рейтингу IMDB (выше 9)\n",
    "high_score_movies.to_csv('high_score_movies.csv', index=False)\n",
    "\n",
    "# Проверка, что файл успешно сохранен, считывание его обратно в новый датафрейм и вывод первых строк\n",
    "df_high_score = pd.read_csv('high_score_movies.csv')\n",
    "print(df_high_score.head())\n"
   ]
  },
  {
   "cell_type": "markdown",
   "id": "0f6ae6e3",
   "metadata": {},
   "source": [
    "### Пример 20: Соединение с исходным датафреймом\n",
    "\n",
    "Иногда нужно соединить новые данные с исходным датафреймом. В этом примере мы добавим новую колонку к существующему датафрейму.\n",
    "\n",
    "```python\n",
    "# Создание нового датафрейма с дополнительной информацией\n",
    "additional_info = pd.DataFrame({\n",
    "    'Title': ['Movie A', 'Movie B'],\n",
    "    'Additional Info': ['Info A', 'Info B']\n",
    "})\n",
    "\n",
    "# Соединение с исходным датафреймом\n",
    "merged_df = pd.merge(df_from_csv, additional_info, on='Title', how='left')\n",
    "```\n",
    "\n",
    "#### Теперь ваша очередь:\n",
    "\n",
    "1. Создайте новый датафрейм с колонками 'Title' и 'Your Rating' (ваш рейтинг фильмов).\n",
    "2. Соедините этот новый датафрейм с вашим основным датафреймом и выведите результат на экран."
   ]
  },
  {
   "cell_type": "code",
   "execution_count": null,
   "id": "e8c8e03e",
   "metadata": {},
   "outputs": [],
   "source": [
    "# Создание нового датафрейма с вашим рейтингом фильмов\n",
    "your_ratings = pd.DataFrame({\n",
    "    'Title': ['Movie A', 'Movie B', 'Movie C'],\n",
    "    'Your Rating': [8.5, 9.0, 7.5]\n",
    "})\n",
    "\n",
    "# Соединение с основным датафреймом\n",
    "merged_df = pd.merge(df_from_csv, your_ratings, on='Title', how='left')\n",
    "\n",
    "# Вывод результатов\n",
    "print(merged_df)\n"
   ]
  },
  {
   "cell_type": "markdown",
   "id": "404d6879",
   "metadata": {},
   "source": [
    "### Пример 21: Работа с текстовыми данными\n",
    "\n",
    "Работа с текстовыми данными часто требуется для очистки и подготовки данных. В этом примере мы научимся применять базовые строковые функции к колонкам.\n",
    "\n",
    "```python\n",
    "# Преобразование названий фильмов к верхнему регистру\n",
    "df_from_csv['Title_upper'] = df_from_csv['Title'].str.upper()\n",
    "```\n",
    "\n",
    "#### Теперь ваша очередь:\n",
    "\n",
    "1. Преобразуйте названия фильмов к нижнему регистру и сохраните в новую колонку.\n",
    "2. Выведите на экран первые 5 строк вашего датафрейма."
   ]
  },
  {
   "cell_type": "code",
   "execution_count": null,
   "id": "6350549f",
   "metadata": {},
   "outputs": [],
   "source": [
    "# Преобразование названий фильмов к нижнему регистру и сохранение в новую колонку\n",
    "df_from_csv['Title_lower'] = df_from_csv['Title'].str.lower()\n",
    "\n",
    "# Вывод первых 5 строк датафрейма с новой колонкой\n",
    "print(df_from_csv.head())\n"
   ]
  },
  {
   "cell_type": "markdown",
   "id": "ef6eb3b5",
   "metadata": {},
   "source": [
    "### Пример 22: Удаление дубликатов\n",
    "\n",
    "Дубликаты в данных могут исказить результаты анализа. В этом примере мы узнаем, как их находить и удалять.\n",
    "\n",
    "```python\n",
    "# Удаление дубликатов по колонке 'Title'\n",
    "df_from_csv.drop_duplicates(subset=['Title'], inplace=True)\n",
    "```\n",
    "\n",
    "#### Теперь ваша очередь:\n",
    "\n",
    "1. Найдите и удалите дубликаты по колонке 'Year'.\n",
    "2. Выведите количество оставшихся строк в датафрейме."
   ]
  },
  {
   "cell_type": "code",
   "execution_count": null,
   "id": "ec0d119b",
   "metadata": {},
   "outputs": [],
   "source": [
    "# Удаление дубликатов по колонке 'Year'\n",
    "df_from_csv.drop_duplicates(subset=['Year'], inplace=True)\n",
    "\n",
    "# Вывод количества оставшихся строк в датафрейме\n",
    "print(\"Количество строк после удаления дубликатов:\", len(df_from_csv))"
   ]
  },
  {
   "cell_type": "markdown",
   "id": "e28616a5",
   "metadata": {},
   "source": [
    "### Пример 23: Переименование колонок\n",
    "\n",
    "Иногда необходимо переименовать колонки для удобства анализа или визуализации. В этом примере мы рассмотрим, как это сделать.\n",
    "\n",
    "```python\n",
    "# Переименование колонок\n",
    "df_from_csv.rename(columns={'Title': 'Movie Title', 'Year': 'Release Year'}, inplace=True)\n",
    "```\n",
    "\n",
    "#### Теперь ваша очередь:\n",
    "\n",
    "1. Переименуйте колонку 'IMDB Score' в 'IMDB_Rating'.\n",
    "2. Выведите на экран первые 5 строк вашего датафрейма."
   ]
  },
  {
   "cell_type": "code",
   "execution_count": null,
   "id": "d2c4b65f",
   "metadata": {},
   "outputs": [],
   "source": [
    "\n",
    "# Переименование колонки 'IMDB Score' в 'IMDB_Rating'\n",
    "df_from_csv.rename(columns={'IMDB Score': 'IMDB_Rating'}, inplace=True)\n",
    "\n",
    "# Вывод первых 5 строк датафрейма\n",
    "print(df_from_csv.head())\n"
   ]
  },
  {
   "cell_type": "markdown",
   "id": "0cdc7ef4",
   "metadata": {},
   "source": [
    "### Пример 24: Преобразование типов данных\n",
    "\n",
    "Типы данных в колонках влияют на возможные операции и анализ. В этом примере мы узнаем, как изменить типы данных.\n",
    "\n",
    "```python\n",
    "# Преобразование типа данных колонки 'Year' в datetime\n",
    "df_from_csv['Release Year'] = pd.to_datetime(df_from_csv['Release Year'], format='%Y')\n",
    "```\n",
    "\n",
    "#### Теперь ваша очередь:\n",
    "\n",
    "1. Преобразуйте тип данных колонки 'IMDB_Rating' в float, если это ещё не сделано.\n",
    "2. Проверьте типы данных всех колонок, используя метод `info()`."
   ]
  },
  {
   "cell_type": "code",
   "execution_count": null,
   "id": "aa242228",
   "metadata": {},
   "outputs": [],
   "source": [
    "# Преобразование типа данных колонки 'IMDB_Rating' в float\n",
    "df_from_csv['IMDB_Rating'] = df_from_csv['IMDB_Rating'].astype(float)\n",
    "\n",
    "# Проверка типов данных всех колонок\n",
    "print(df_from_csv.info())\n"
   ]
  },
  {
   "cell_type": "markdown",
   "id": "90f6cf58",
   "metadata": {},
   "source": [
    "### Пример 25: Вычисление новых статистик\n",
    "\n",
    "Создание новых статистических метрик из существующих данных полезно для дальнейшего анализа. В этом примере мы создадим новую колонку, которая будет показывать, является ли фильм \"хитом\".\n",
    "\n",
    "```python\n",
    "# Создание новой колонки 'Is_Hit' на основе рейтинга IMDB\n",
    "df_from_csv['Is_Hit'] = df_from_csv['IMDB_Rating'].apply(lambda x: 'Yes' if x > 8 else 'No')\n",
    "```\n",
    "\n",
    "#### Теперь ваша очередь:\n",
    "\n",
    "1. Создайте новую колонку 'Is_Old', которая будет показывать, является ли фильм старым (выпущен до 2000 года).\n",
    "2. Выведите на экран первые 5 строк вашего датафрейма."
   ]
  },
  {
   "cell_type": "code",
   "execution_count": null,
   "id": "1f082510",
   "metadata": {},
   "outputs": [],
   "source": [
    "# Создание новой колонки 'Is_Old' на основе года выпуска\n",
    "df_from_csv['Is_Old'] = df_from_csv['Release Year'].apply(lambda year: 'Yes' if year < 2000 else 'No')\n",
    "\n",
    "# Вывод первых 5 строк датафрейма\n",
    "print(df_from_csv.head())\n"
   ]
  },
  {
   "cell_type": "markdown",
   "id": "a97aecdb",
   "metadata": {},
   "source": [
    "### Пример 26: Создание сводных таблиц\n",
    "\n",
    "Сводные таблицы полезны для агрегации и анализа данных. В этом примере мы создадим сводную таблицу, которая покажет средний рейтинг IMDB по жанрам.\n",
    "\n",
    "```python\n",
    "# Создание сводной таблицы\n",
    "pivot_table_genre = pd.pivot_table(df_from_csv, values='IMDB_Rating', index='Genre', aggfunc=np.mean)\n",
    "```\n",
    "\n",
    "#### Теперь ваша очередь:\n",
    "\n",
    "1. Создайте сводную таблицу, которая покажет максимальный рейтинг IMDB по годам выпуска.\n",
    "2. Выведите сводную таблицу на экран."
   ]
  },
  {
   "cell_type": "code",
   "execution_count": null,
   "id": "6975b65c",
   "metadata": {},
   "outputs": [],
   "source": [
    "# Создание сводной таблицы\n",
    "pivot_table_year = pd.pivot_table(df_from_csv, values='IMDB_Rating', index='Release Year', aggfunc=np.max)\n",
    "\n",
    "# Вывод сводной таблицы на экран\n",
    "print(pivot_table_year)\n"
   ]
  },
  {
   "cell_type": "markdown",
   "id": "9c1b16b9",
   "metadata": {},
   "source": [
    "### Пример 27: Линейные графики с Seaborn\n",
    "\n",
    "Линейные графики полезны для анализа временных рядов или отслеживания изменений в данных. В этом примере мы создадим линейный график для анализа изменения среднего рейтинга IMDB по годам.\n",
    "\n",
    "```python\n",
    "import seaborn as sns\n",
    "\n",
    "# Линейный график среднего рейтинга IMDB по годам\n",
    "sns.lineplot(x='Release Year', y='IMDB_Rating', data=df_from_csv)\n",
    "```\n",
    "\n",
    "#### Теперь ваша очередь:\n",
    "\n",
    "1. Создайте линейный график, который покажет изменение количества выпущенных фильмов по годам.\n",
    "2. Добавьте подписи к осям и заголовок к графику."
   ]
  },
  {
   "cell_type": "code",
   "execution_count": null,
   "id": "5b0b245b",
   "metadata": {},
   "outputs": [],
   "source": [
    "# Линейный график количества выпущенных фильмов по годам\n",
    "sns.lineplot(x='Release Year', y=df_from_csv.groupby('Release Year').size(), data=df_from_csv)\n",
    "plt.xlabel('Release Year')\n",
    "plt.ylabel('Number of Movies Released')\n",
    "plt.title('Number of Movies Released per Year')\n",
    "plt.show()\n"
   ]
  },
  {
   "cell_type": "markdown",
   "id": "47564f28",
   "metadata": {},
   "source": [
    "### Пример 28: Тепловые карты с Seaborn\n",
    "\n",
    "Тепловые карты полезны для визуализации корреляции или распределения значений между разными переменными. В этом примере мы создадим тепловую карту для корреляционной матрицы.\n",
    "\n",
    "```python\n",
    "# Тепловая карта корреляционной матрицы\n",
    "corr_matrix = df_from_csv.corr()\n",
    "sns.heatmap(corr_matrix, annot=True)\n",
    "```\n",
    "\n",
    "#### Теперь ваша очередь:\n",
    "\n",
    "1. Создайте тепловую карту для подмножества колонок (например, 'IMDB_Rating', 'Year').\n",
    "2. Измените цветовую палитру тепловой карты."
   ]
  },
  {
   "cell_type": "code",
   "execution_count": null,
   "id": "ee05cad3",
   "metadata": {},
   "outputs": [],
   "source": [
    "# Создание подмножества данных\n",
    "subset = df_from_csv[['IMDB_Rating', 'Release Year']]\n",
    "\n",
    "# Тепловая карта для подмножества данных с измененной цветовой палитрой\n",
    "sns.heatmap(subset.corr(), annot=True, cmap='coolwarm')\n",
    "plt.title('Correlation Heatmap for IMDB Rating and Release Year')\n",
    "plt.show()\n"
   ]
  },
  {
   "cell_type": "markdown",
   "id": "0ddea13d",
   "metadata": {},
   "source": [
    "### Пример 29: Визуализация географических данных\n",
    "\n",
    "Если ваши данные содержат географическую информацию, вы можете использовать специализированные библиотеки для её визуализации. В этом примере мы рассмотрим, как создать простую карту. (Примечание: этот пример может быть не применим, если в исходных данных нет географической информации.)\n",
    "\n",
    "```python\n",
    "# Пример создания карты (применим, если есть географические данные)\n",
    "# import geopandas as gpd\n",
    "# gdf = gpd.GeoDataFrame(df_from_csv, geometry=gpd.points_from_xy(df_from_csv.Longitude, df_from_csv.Latitude))\n",
    "# gdf.plot()\n",
    "```\n",
    "\n",
    "#### Теперь ваша очередь:\n",
    "\n",
    "1. Если у вас есть географические данные, создайте простую карту.\n",
    "2. Добавьте на карту метки или другие элементы для большей информативности."
   ]
  },
  {
   "cell_type": "code",
   "execution_count": null,
   "id": "cf4d3dff",
   "metadata": {},
   "outputs": [],
   "source": [
    "import folium\n",
    "\n",
    "# Создание базовой карты\n",
    "m = folium.Map(location=[51.5074, 0.1278], zoom_start=10)\n",
    "\n",
    "# Добавление маркеров\n",
    "for index, row in df_from_csv.iterrows():\n",
    "    folium.Marker([row['Latitude'], row['Longitude']], popup=row['Title']).add_to(m)\n",
    "\n",
    "# Вывод карты\n",
    "m\n"
   ]
  },
  {
   "cell_type": "markdown",
   "id": "cf59ff31",
   "metadata": {},
   "source": [
    "### Пример 30: Интерактивные графики с Plotly\n",
    "\n",
    "Интерактивные графики позволяют более детально изучить данные. В этом примере мы создадим интерактивный график с помощью библиотеки Plotly.\n",
    "\n",
    "```python\n",
    "# Пример создания интерактивного графика с Plotly\n",
    " import plotly.express as px\n",
    " fig = px.scatter(df_from_csv, x='Release Year', y='IMDB_Rating', title='IMDB Rating Over the Years')\n",
    " fig.show()\n",
    "```\n",
    "\n",
    "#### Теперь ваша очередь:\n",
    "\n",
    "1. Создайте интерактивный график, который покажет распределение фильмов по жанрам.\n",
    "2. Добавьте возможность выбора жанра из выпадающего списка."
   ]
  },
  {
   "cell_type": "code",
   "execution_count": null,
   "id": "1decfc15",
   "metadata": {},
   "outputs": [],
   "source": [
    "import plotly.express as px\n",
    "\n",
    "# Создание интерактивного графика\n",
    "fig = px.histogram(df_from_csv, x='Genre', title='Distribution of Movies by Genre')\n",
    "\n",
    "# Отображение интерактивного графика\n",
    "fig.show()\n"
   ]
  }
 ],
 "metadata": {
  "kernelspec": {
   "display_name": "Python 3 (ipykernel)",
   "language": "python",
   "name": "python3"
  },
  "language_info": {
   "codemirror_mode": {
    "name": "ipython",
    "version": 3
   },
   "file_extension": ".py",
   "mimetype": "text/x-python",
   "name": "python",
   "nbconvert_exporter": "python",
   "pygments_lexer": "ipython3",
   "version": "3.11.5"
  }
 },
 "nbformat": 4,
 "nbformat_minor": 5
}
